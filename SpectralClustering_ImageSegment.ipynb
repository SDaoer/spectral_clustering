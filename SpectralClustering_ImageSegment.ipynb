{
 "cells": [
  {
   "cell_type": "code",
   "execution_count": 10,
   "metadata": {},
   "outputs": [],
   "source": [
    "from sklearn.cluster import KMeans\n",
    "from sklearn.cluster import SpectralClustering\n",
    "from PIL import Image\n",
    "import numpy as np\n",
    "from math import exp\n",
    "from sklearn.feature_extraction import image"
   ]
  },
  {
   "cell_type": "code",
   "execution_count": 1,
   "metadata": {},
   "outputs": [],
   "source": [
    "imgPath = \"./ImageNet/00001.png\""
   ]
  },
  {
   "cell_type": "code",
   "execution_count": null,
   "metadata": {},
   "outputs": [],
   "source": []
  },
  {
   "cell_type": "code",
   "execution_count": 4,
   "metadata": {},
   "outputs": [
    {
     "name": "stdout",
     "output_type": "stream",
     "text": [
      "(64, 64, 3)\n"
     ]
    }
   ],
   "source": [
    "img = Image.open(imgPath)\n",
    "data = np.asarray(img)\n",
    "print(data.shape)"
   ]
  },
  {
   "cell_type": "code",
   "execution_count": 5,
   "metadata": {},
   "outputs": [
    {
     "data": {
      "image/png": "[encoded data removed]",
      "text/plain": [
       "<PIL.PngImagePlugin.PngImageFile image mode=RGB size=64x64 at 0x21E26F36080>"
      ]
     },
     "metadata": {},
     "output_type": "display_data"
    }
   ],
   "source": [
    "display(img)"
   ]
  },
  {
   "cell_type": "code",
   "execution_count": 70,
   "metadata": {},
   "outputs": [
    {
     "data": {
      "text/plain": [
       "array([[[199, 192, 148],\n",
       "        [205, 198, 154],\n",
       "        [201, 197, 150],\n",
       "        ...,\n",
       "        [231, 218, 166],\n",
       "        [233, 220, 168],\n",
       "        [231, 215, 163]],\n",
       "\n",
       "       [[201, 194, 150],\n",
       "        [206, 199, 155],\n",
       "        [204, 200, 153],\n",
       "        ...,\n",
       "        [231, 218, 166],\n",
       "        [233, 220, 168],\n",
       "        [229, 213, 161]],\n",
       "\n",
       "       [[202, 195, 149],\n",
       "        [206, 199, 153],\n",
       "        [206, 199, 153],\n",
       "        ...,\n",
       "        [231, 218, 166],\n",
       "        [229, 216, 164],\n",
       "        [233, 217, 165]],\n",
       "\n",
       "       ...,\n",
       "\n",
       "       [[ 25,  19,   7],\n",
       "        [ 16,  10,   0],\n",
       "        [ 20,  16,   5],\n",
       "        ...,\n",
       "        [ 54,  63,  42],\n",
       "        [ 57,  66,  45],\n",
       "        [ 58,  68,  44]],\n",
       "\n",
       "       [[ 16,  10,   0],\n",
       "        [ 20,  14,   2],\n",
       "        [ 34,  30,  18],\n",
       "        ...,\n",
       "        [ 54,  63,  42],\n",
       "        [ 57,  66,  45],\n",
       "        [ 55,  65,  41]],\n",
       "\n",
       "       [[ 26,  20,   6],\n",
       "        [ 26,  20,   6],\n",
       "        [ 35,  29,  15],\n",
       "        ...,\n",
       "        [ 53,  63,  39],\n",
       "        [ 51,  61,  37],\n",
       "        [ 57,  67,  43]]], dtype=uint8)"
      ]
     },
     "execution_count": 70,
     "metadata": {},
     "output_type": "execute_result"
    }
   ],
   "source": [
    "data"
   ]
  },
  {
   "cell_type": "code",
   "execution_count": 20,
   "metadata": {
    "scrolled": true
   },
   "outputs": [],
   "source": [
    "graph = image.img_to_graph(data[:,:,0])\n",
    "# 如何保持 3D"
   ]
  },
  {
   "cell_type": "code",
   "execution_count": 21,
   "metadata": {},
   "outputs": [
    {
     "data": {
      "text/plain": [
       "(4096, 4096)"
      ]
     },
     "execution_count": 21,
     "metadata": {},
     "output_type": "execute_result"
    }
   ],
   "source": [
    "graph.shape"
   ]
  },
  {
   "cell_type": "code",
   "execution_count": 174,
   "metadata": {},
   "outputs": [],
   "source": [
    "def Gaussian(x1, x2, delta=1):\n",
    "    return exp(-np.dot(x1-x2, x1-x2) / (2*delta**2))"
   ]
  },
  {
   "cell_type": "code",
   "execution_count": 184,
   "metadata": {},
   "outputs": [],
   "source": [
    "# def similarity(dataset):\n",
    "#     S = np.empty(shape=(dataset.shape[0], dataset.shape[0]), dtype=\"float16\")\n",
    "#     for i in range(dataset.shape[0]):\n",
    "#         for j in range(dataset.shape[0]):\n",
    "#             S[i][j] = Gaussian(dataset[i], dataset[j])\n",
    "#     return S\n",
    "# 遇到的问题：\n",
    "# 1、相似度超过 1 了，按道理不该的\n",
    "# > 因为 np.dot(dataset[0]-dataset[1], dataset[0]-dataset[1])的结果溢出\n",
    "# > 解决办法：溢出的话，结果为负，也就是高斯相似度超过 1，令超过 1 的为 0，作为近似"
   ]
  },
  {
   "cell_type": "code",
   "execution_count": 176,
   "metadata": {},
   "outputs": [
    {
     "data": {
      "text/plain": [
       "array([ -7, -10,  -7], dtype=int8)"
      ]
     },
     "execution_count": 176,
     "metadata": {},
     "output_type": "execute_result"
    }
   ],
   "source": [
    "dataset[0]-dataset[1]"
   ]
  },
  {
   "cell_type": "code",
   "execution_count": 177,
   "metadata": {},
   "outputs": [
    {
     "data": {
      "text/plain": [
       "-58"
      ]
     },
     "execution_count": 177,
     "metadata": {},
     "output_type": "execute_result"
    }
   ],
   "source": [
    "np.dot(dataset[0]-dataset[1], dataset[0]-dataset[1])"
   ]
  },
  {
   "cell_type": "code",
   "execution_count": 185,
   "metadata": {},
   "outputs": [],
   "source": [
    "S = similarity(dataset)"
   ]
  },
  {
   "cell_type": "code",
   "execution_count": 186,
   "metadata": {
    "scrolled": false
   },
   "outputs": [],
   "source": [
    "S[S > 1] = 0"
   ]
  },
  {
   "cell_type": "code",
   "execution_count": 187,
   "metadata": {},
   "outputs": [
    {
     "data": {
      "text/plain": [
       "array([[1.000e+00, 0.000e+00, 8.209e-02, ..., 0.000e+00, 0.000e+00,\n",
       "        0.000e+00],\n",
       "       [0.000e+00, 1.000e+00, 1.371e-06, ..., 0.000e+00, 0.000e+00,\n",
       "        0.000e+00],\n",
       "       [8.209e-02, 1.371e-06, 1.000e+00, ..., 6.737e-03, 0.000e+00,\n",
       "        3.755e-06],\n",
       "       ...,\n",
       "       [0.000e+00, 0.000e+00, 6.737e-03, ..., 1.000e+00, 1.111e-02,\n",
       "        2.035e-04],\n",
       "       [0.000e+00, 0.000e+00, 0.000e+00, ..., 1.111e-02, 1.000e+00,\n",
       "        3.679e-01],\n",
       "       [0.000e+00, 0.000e+00, 3.755e-06, ..., 2.035e-04, 3.679e-01,\n",
       "        1.000e+00]], dtype=float16)"
      ]
     },
     "execution_count": 187,
     "metadata": {},
     "output_type": "execute_result"
    }
   ],
   "source": [
    "S"
   ]
  },
  {
   "cell_type": "code",
   "execution_count": null,
   "metadata": {},
   "outputs": [],
   "source": [
    "cluster = SpectralClustering(n_clusters=2, , affinity='precomputed').fit_predict(S)"
   ]
  },
  {
   "cell_type": "code",
   "execution_count": null,
   "metadata": {},
   "outputs": [],
   "source": [
    "# # 分块\n",
    "# height = 10\n",
    "# width = 13\n",
    "# col_num = data.shape[1] // width\n",
    "# row_num = data.shape[0] // height\n",
    "# block = np.empty(shape=(col_num*row_num, height*width, 3), dtype=\"int8\")\n",
    "# for i in range(row_num):\n",
    "#     for j in range(col_num):\n",
    "#         block[i*col_num+j] = data[i*height:i*height+height,j*width:j*width+width].reshape(height*width, 3)\n",
    "\n",
    "\n"
   ]
  },
  {
   "cell_type": "code",
   "execution_count": 128,
   "metadata": {
    "scrolled": true
   },
   "outputs": [
    {
     "data": {
      "text/plain": [
       "(1184, 130, 3)"
      ]
     },
     "execution_count": 128,
     "metadata": {},
     "output_type": "execute_result"
    }
   ],
   "source": [
    "block.shape"
   ]
  },
  {
   "cell_type": "markdown",
   "metadata": {},
   "source": [
    "原本应该是：321\\*481=154401 --> 相似矩阵S：154401\\*154401\n",
    "\n",
    "分块后：每个块10\\*13=130，但是整体仍然是：1184\\*130=153920≈154401\n",
    "\n",
    "在计算相似图上，分块作用不大"
   ]
  },
  {
   "cell_type": "code",
   "execution_count": 129,
   "metadata": {},
   "outputs": [
    {
     "name": "stdout",
     "output_type": "stream",
     "text": [
      "(1184, 130, 130)\n"
     ]
    }
   ],
   "source": [
    "S = np.empty(shape=(block.shape[0], block.shape[1], block.shape[1]), dtype=\"float16\")\n",
    "print(S.shape)"
   ]
  },
  {
   "cell_type": "code",
   "execution_count": 137,
   "metadata": {},
   "outputs": [],
   "source": [
    "# def similarity(S, block):\n",
    "#     for k in range(S.shape[0]):\n",
    "#         for i in range(S.shape[1]):\n",
    "#             for j in range(S.shape[1]):\n",
    "#                 S[k][i][j] = Gaussian(block[k][i], block[k][j])\n",
    "# 遇到的问题：\n",
    "# 1、复杂度太高\n",
    "# 2、RGB差值uint8溢出：block转为int8类型\n",
    "# def similarity(S, block):\n",
    "#     for k in range(S.shape[0]):\n",
    "#         for i in range(S.shape[1]):\n",
    "#             for j in range(S.shape[1]):def Gaussian(x1, x2, delta=1):\n",
    "    return exp(-np.dot(x1-x2, x1-x2) / (2*delta**2))\n",
    "#                 S[k][i][j] = np.dot(block[0][0] - block[0][1], block[0][0] - block[0][1])\n",
    "#     S = exp(-S/2)\n",
    "# 遇到的问题：\n",
    "# 1、复杂度仍然太高\n",
    "# 2、S = exp(-S/2) 不可行"
   ]
  },
  {
   "cell_type": "markdown",
   "metadata": {},
   "source": [
    "计算相似图的复杂度 O(n^2)\n",
    "\n",
    "计算特征向量是O(n^3)，分块后是O(w\\*h\\*(n^3/(w\\*h)^3))=O(n^3/(w\\*h)^2)，仍然还是比较高"
   ]
  },
  {
   "cell_type": "code",
   "execution_count": 138,
   "metadata": {},
   "outputs": [
    {
     "ename": "TypeError",
     "evalue": "only size-1 arrays can be converted to Python scalars",
     "output_type": "error",
     "traceback": [
      "\u001b[1;31m---------------------------------------------------------------------------\u001b[0m",
      "\u001b[1;31mTypeError\u001b[0m                                 Traceback (most recent call last)",
      "\u001b[1;32m<ipython-input-138-624ce93b6eef>\u001b[0m in \u001b[0;36m<module>\u001b[1;34m\u001b[0m\n\u001b[1;32m----> 1\u001b[1;33m \u001b[0msimilarity\u001b[0m\u001b[1;33m(\u001b[0m\u001b[0mS\u001b[0m\u001b[1;33m,\u001b[0m \u001b[0mblock\u001b[0m\u001b[1;33m)\u001b[0m\u001b[1;33m\u001b[0m\u001b[1;33m\u001b[0m\u001b[0m\n\u001b[0m",
      "\u001b[1;32m<ipython-input-137-01bcacc852fc>\u001b[0m in \u001b[0;36msimilarity\u001b[1;34m(S, block)\u001b[0m\n\u001b[0;32m     12\u001b[0m             \u001b[1;32mfor\u001b[0m \u001b[0mj\u001b[0m \u001b[1;32min\u001b[0m \u001b[0mrange\u001b[0m\u001b[1;33m(\u001b[0m\u001b[0mS\u001b[0m\u001b[1;33m.\u001b[0m\u001b[0mshape\u001b[0m\u001b[1;33m[\u001b[0m\u001b[1;36m1\u001b[0m\u001b[1;33m]\u001b[0m\u001b[1;33m)\u001b[0m\u001b[1;33m:\u001b[0m\u001b[1;33m\u001b[0m\u001b[1;33m\u001b[0m\u001b[0m\n\u001b[0;32m     13\u001b[0m                 \u001b[0mS\u001b[0m\u001b[1;33m[\u001b[0m\u001b[0mk\u001b[0m\u001b[1;33m]\u001b[0m\u001b[1;33m[\u001b[0m\u001b[0mi\u001b[0m\u001b[1;33m]\u001b[0m\u001b[1;33m[\u001b[0m\u001b[0mj\u001b[0m\u001b[1;33m]\u001b[0m \u001b[1;33m=\u001b[0m \u001b[0mnp\u001b[0m\u001b[1;33m.\u001b[0m\u001b[0mdot\u001b[0m\u001b[1;33m(\u001b[0m\u001b[0mblock\u001b[0m\u001b[1;33m[\u001b[0m\u001b[1;36m0\u001b[0m\u001b[1;33m]\u001b[0m\u001b[1;33m[\u001b[0m\u001b[1;36m0\u001b[0m\u001b[1;33m]\u001b[0m \u001b[1;33m-\u001b[0m \u001b[0mblock\u001b[0m\u001b[1;33m[\u001b[0m\u001b[1;36m0\u001b[0m\u001b[1;33m]\u001b[0m\u001b[1;33m[\u001b[0m\u001b[1;36m1\u001b[0m\u001b[1;33m]\u001b[0m\u001b[1;33m,\u001b[0m \u001b[0mblock\u001b[0m\u001b[1;33m[\u001b[0m\u001b[1;36m0\u001b[0m\u001b[1;33m]\u001b[0m\u001b[1;33m[\u001b[0m\u001b[1;36m0\u001b[0m\u001b[1;33m]\u001b[0m \u001b[1;33m-\u001b[0m \u001b[0mblock\u001b[0m\u001b[1;33m[\u001b[0m\u001b[1;36m0\u001b[0m\u001b[1;33m]\u001b[0m\u001b[1;33m[\u001b[0m\u001b[1;36m1\u001b[0m\u001b[1;33m]\u001b[0m\u001b[1;33m)\u001b[0m\u001b[1;33m\u001b[0m\u001b[1;33m\u001b[0m\u001b[0m\n\u001b[1;32m---> 14\u001b[1;33m     \u001b[0mS\u001b[0m \u001b[1;33m=\u001b[0m \u001b[0mexp\u001b[0m\u001b[1;33m(\u001b[0m\u001b[1;33m-\u001b[0m\u001b[0mS\u001b[0m\u001b[1;33m/\u001b[0m\u001b[1;36m2\u001b[0m\u001b[1;33m)\u001b[0m\u001b[1;33m\u001b[0m\u001b[1;33m\u001b[0m\u001b[0m\n\u001b[0m",
      "\u001b[1;31mTypeError\u001b[0m: only size-1 arrays can be converted to Python scalars"
     ]
    }
   ],
   "source": [
    "similarity(S, block)"
   ]
  },
  {
   "cell_type": "code",
   "execution_count": 170,
   "metadata": {},
   "outputs": [
    {
     "data": {
      "text/plain": [
       "8"
      ]
     },
     "execution_count": 170,
     "metadata": {},
     "output_type": "execute_result"
    }
   ],
   "source": [
    "np.dot([1,2],[2,3])"
   ]
  },
  {
   "cell_type": "code",
   "execution_count": 112,
   "metadata": {},
   "outputs": [
    {
     "data": {
      "text/plain": [
       "array([[[ 1., inf, inf, ..., inf, inf, inf],\n",
       "        [inf,  1., inf, ..., inf, inf, inf],\n",
       "        [inf, inf,  1., ..., inf, inf, inf],\n",
       "        ...,\n",
       "        [inf, inf, inf, ...,  1., inf, inf],\n",
       "        [inf, inf, inf, ..., inf,  1., inf],\n",
       "        [inf, inf, inf, ..., inf, inf,  1.]],\n",
       "\n",
       "       [[ 1., inf, inf, ..., inf, inf, inf],\n",
       "        [inf,  1., inf, ..., inf, inf, inf],\n",
       "        [inf, inf,  1., ..., inf, inf, inf],\n",
       "        ...,\n",
       "        [inf, inf, inf, ...,  1., inf,  1.],\n",
       "        [inf, inf, inf, ..., inf,  1., inf],\n",
       "        [inf, inf, inf, ...,  1., inf,  1.]],\n",
       "\n",
       "       [[ 1., inf, inf, ..., inf, inf, inf],\n",
       "        [inf,  1., inf, ..., inf, inf, inf],\n",
       "        [inf, inf,  1., ..., inf, inf, inf],\n",
       "        ...,\n",
       "        [inf, inf, inf, ...,  1.,  1., inf],\n",
       "        [inf, inf, inf, ...,  1.,  1., inf],\n",
       "        [inf, inf, inf, ..., inf, inf,  1.]],\n",
       "\n",
       "       ...,\n",
       "\n",
       "       [[ 1., inf, inf, ..., inf, inf, inf],\n",
       "        [inf,  1., inf, ..., inf, inf, inf],\n",
       "        [inf, inf,  1., ..., inf, inf, inf],\n",
       "        ...,\n",
       "        [inf, inf, inf, ...,  1.,  1., inf],\n",
       "        [inf, inf, inf, ...,  1.,  1., inf],\n",
       "        [inf, inf, inf, ..., inf, inf,  1.]],\n",
       "\n",
       "       [[ 1., inf,  1., ..., inf, inf, inf],\n",
       "        [inf,  1., inf, ..., inf, inf, inf],\n",
       "        [ 1., inf,  1., ..., inf, inf, inf],\n",
       "        ...,\n",
       "        [inf, inf, inf, ...,  1., inf, inf],\n",
       "        [inf, inf, inf, ..., inf,  1., inf],\n",
       "        [inf, inf, inf, ..., inf, inf,  1.]],\n",
       "\n",
       "       [[ 1.,  1.,  1., ..., inf, inf, inf],\n",
       "        [ 1.,  1.,  1., ..., inf, inf, inf],\n",
       "        [ 1.,  1.,  1., ..., inf, inf, inf],\n",
       "        ...,\n",
       "        [inf, inf, inf, ...,  1., inf, inf],\n",
       "        [inf, inf, inf, ..., inf,  1., inf],\n",
       "        [inf, inf, inf, ..., inf, inf,  1.]]], dtype=float16)"
      ]
     },
     "execution_count": 112,
     "metadata": {},
     "output_type": "execute_result"
    }
   ],
   "source": [
    "S"
   ]
  },
  {
   "cell_type": "code",
   "execution_count": null,
   "metadata": {},
   "outputs": [],
   "source": []
  },
  {
   "cell_type": "code",
   "execution_count": 130,
   "metadata": {},
   "outputs": [],
   "source": []
  },
  {
   "cell_type": "markdown",
   "metadata": {},
   "source": []
  },
  {
   "cell_type": "code",
   "execution_count": 136,
   "metadata": {},
   "outputs": [
    {
     "data": {
      "text/plain": [
       "108"
      ]
     },
     "execution_count": 136,
     "metadata": {},
     "output_type": "execute_result"
    }
   ],
   "source": [
    "np.dot(block[0][0] - block[0][1], block[0][0] - block[0][1])"
   ]
  },
  {
   "cell_type": "code",
   "execution_count": 132,
   "metadata": {},
   "outputs": [
    {
     "data": {
      "text/plain": [
       "array([ -51,  -58, -102], dtype=int8)"
      ]
     },
     "execution_count": 132,
     "metadata": {},
     "output_type": "execute_result"
    }
   ],
   "source": [
    "block[0][1]"
   ]
  },
  {
   "cell_type": "code",
   "execution_count": 131,
   "metadata": {},
   "outputs": [
    {
     "data": {
      "text/plain": [
       "array([ -57,  -64, -108], dtype=int8)"
      ]
     },
     "execution_count": 131,
     "metadata": {},
     "output_type": "execute_result"
    }
   ],
   "source": [
    "block[0][0]"
   ]
  },
  {
   "cell_type": "code",
   "execution_count": 43,
   "metadata": {},
   "outputs": [
    {
     "data": {
      "text/plain": [
       "array([[163, 153, 128],\n",
       "       [163, 153, 128],\n",
       "       [164, 157, 131],\n",
       "       ...,\n",
       "       [ 46,  95, 100],\n",
       "       [ 42,  89,  95],\n",
       "       [ 46,  93,  99]], dtype=uint8)"
      ]
     },
     "execution_count": 43,
     "metadata": {},
     "output_type": "execute_result"
    }
   ],
   "source": [
    "d"
   ]
  },
  {
   "cell_type": "code",
   "execution_count": 55,
   "metadata": {},
   "outputs": [
    {
     "data": {
      "text/plain": [
       "numpy.uint8"
      ]
     },
     "execution_count": 55,
     "metadata": {},
     "output_type": "execute_result"
    }
   ],
   "source": [
    "type(data[0][0][0])"
   ]
  },
  {
   "cell_type": "code",
   "execution_count": 98,
   "metadata": {
    "scrolled": true
   },
   "outputs": [
    {
     "ename": "ValueError",
     "evalue": "cannot reshape array of size 461760 into shape (130,3)",
     "output_type": "error",
     "traceback": [
      "\u001b[1;31m---------------------------------------------------------------------------\u001b[0m",
      "\u001b[1;31mValueError\u001b[0m                                Traceback (most recent call last)",
      "\u001b[1;32m<ipython-input-98-b7b149722f95>\u001b[0m in \u001b[0;36m<module>\u001b[1;34m\u001b[0m\n\u001b[1;32m----> 1\u001b[1;33m \u001b[0mblock\u001b[0m\u001b[1;33m[\u001b[0m\u001b[1;33m:\u001b[0m\u001b[1;33m]\u001b[0m \u001b[1;33m=\u001b[0m \u001b[0mblock\u001b[0m\u001b[1;33m[\u001b[0m\u001b[1;33m:\u001b[0m\u001b[1;33m]\u001b[0m\u001b[1;33m.\u001b[0m\u001b[0mreshape\u001b[0m\u001b[1;33m(\u001b[0m\u001b[0mheight\u001b[0m\u001b[1;33m*\u001b[0m\u001b[0mwidth\u001b[0m\u001b[1;33m,\u001b[0m \u001b[1;36m3\u001b[0m\u001b[1;33m)\u001b[0m\u001b[1;33m\u001b[0m\u001b[1;33m\u001b[0m\u001b[0m\n\u001b[0m",
      "\u001b[1;31mValueError\u001b[0m: cannot reshape array of size 461760 into shape (130,3)"
     ]
    }
   ],
   "source": [
    "block[:] = block[:].reshape(height*width, 3)"
   ]
  },
  {
   "cell_type": "code",
   "execution_count": 94,
   "metadata": {},
   "outputs": [],
   "source": [
    "del flatten_data"
   ]
  },
  {
   "cell_type": "code",
   "execution_count": 75,
   "metadata": {},
   "outputs": [
    {
     "data": {
      "text/plain": [
       "(10, 13, 3)"
      ]
     },
     "execution_count": 75,
     "metadata": {},
     "output_type": "execute_result"
    }
   ],
   "source": [
    "data[0:height,0:width].shape"
   ]
  },
  {
   "cell_type": "code",
   "execution_count": 78,
   "metadata": {
    "scrolled": true
   },
   "outputs": [
    {
     "data": {
      "text/plain": [
       "(10, 481, 3)"
      ]
     },
     "execution_count": 78,
     "metadata": {},
     "output_type": "execute_result"
    }
   ],
   "source": [
    "data[0:height][0:width].shape"
   ]
  },
  {
   "cell_type": "code",
   "execution_count": 48,
   "metadata": {},
   "outputs": [
    {
     "data": {
      "text/plain": [
       "(1200, 1920)"
      ]
     },
     "execution_count": 48,
     "metadata": {},
     "output_type": "execute_result"
    }
   ],
   "source": []
  },
  {
   "cell_type": "code",
   "execution_count": 36,
   "metadata": {},
   "outputs": [
    {
     "name": "stdout",
     "output_type": "stream",
     "text": [
      "(1200, 1920, 3)\n"
     ]
    }
   ],
   "source": []
  },
  {
   "cell_type": "code",
   "execution_count": 44,
   "metadata": {
    "scrolled": true
   },
   "outputs": [
    {
     "data": {
      "text/plain": [
       "array([[[163, 153, 128],\n",
       "        [163, 153, 128],\n",
       "        [164, 157, 131],\n",
       "        ...,\n",
       "        [116, 141, 120],\n",
       "        [117, 145, 123],\n",
       "        [117, 145, 123]],\n",
       "\n",
       "       [[156, 146, 121],\n",
       "        [161, 151, 126],\n",
       "        [161, 154, 128],\n",
       "        ...,\n",
       "        [116, 141, 120],\n",
       "        [119, 144, 123],\n",
       "        [116, 144, 122]],\n",
       "\n",
       "       [[159, 149, 124],\n",
       "        [161, 151, 126],\n",
       "        [162, 155, 129],\n",
       "        ...,\n",
       "        [116, 141, 120],\n",
       "        [118, 143, 122],\n",
       "        [117, 142, 121]],\n",
       "\n",
       "       ...,\n",
       "\n",
       "       [[ 66, 115, 112],\n",
       "        [ 61, 110, 107],\n",
       "        [ 53, 103, 102],\n",
       "        ...,\n",
       "        [ 34,  92,  96],\n",
       "        [ 36,  93, 100],\n",
       "        [ 44, 102, 106]],\n",
       "\n",
       "       [[ 68, 114, 112],\n",
       "        [ 62, 111, 108],\n",
       "        [ 56, 106, 105],\n",
       "        ...,\n",
       "        [ 41,  92,  96],\n",
       "        [ 39,  89,  96],\n",
       "        [ 44,  95,  99]],\n",
       "\n",
       "       [[ 57, 103, 101],\n",
       "        [ 52, 101,  98],\n",
       "        [ 54, 102, 104],\n",
       "        ...,\n",
       "        [ 46,  95, 100],\n",
       "        [ 42,  89,  95],\n",
       "        [ 46,  93,  99]]], dtype=uint8)"
      ]
     },
     "execution_count": 44,
     "metadata": {},
     "output_type": "execute_result"
    }
   ],
   "source": [
    "data"
   ]
  }
 ],
 "metadata": {
  "kernelspec": {
   "display_name": "Python [conda env:python36]",
   "language": "python",
   "name": "conda-env-python36-py"
  },
  "language_info": {
   "codemirror_mode": {
    "name": "ipython",
    "version": 3
   },
   "file_extension": ".py",
   "mimetype": "text/x-python",
   "name": "python",
   "nbconvert_exporter": "python",
   "pygments_lexer": "ipython3",
   "version": "3.6.10"
  }
 },
 "nbformat": 4,
 "nbformat_minor": 4
}
